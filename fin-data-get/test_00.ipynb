{
 "cells": [
  {
   "cell_type": "code",
   "execution_count": 1,
   "metadata": {},
   "outputs": [],
   "source": [
    "import pandas as pd\n",
    "import numpy as np"
   ]
  },
  {
   "cell_type": "code",
   "execution_count": 8,
   "metadata": {},
   "outputs": [
    {
     "name": "stdout",
     "output_type": "stream",
     "text": [
      "<class 'pandas.core.frame.DataFrame'>\n",
      "RangeIndex: 392020 entries, 0 to 392019\n",
      "Data columns (total 21 columns):\n",
      " #   Column             Non-Null Count   Dtype  \n",
      "---  ------             --------------   -----  \n",
      " 0   rcept_no           392020 non-null  int64  \n",
      " 1   reprt_code         392020 non-null  int64  \n",
      " 2   bsns_year          392020 non-null  int64  \n",
      " 3   corp_code          392020 non-null  int64  \n",
      " 4   sj_div             392020 non-null  object \n",
      " 5   sj_nm              392020 non-null  object \n",
      " 6   account_id         392020 non-null  object \n",
      " 7   account_nm         392020 non-null  object \n",
      " 8   account_detail     392020 non-null  object \n",
      " 9   thstrm_nm          392020 non-null  object \n",
      " 10  thstrm_amount      376140 non-null  float64\n",
      " 11  frmtrm_nm          197894 non-null  object \n",
      " 12  frmtrm_amount      190088 non-null  float64\n",
      " 13  bfefrmtrm_nm       107001 non-null  object \n",
      " 14  bfefrmtrm_amount   100100 non-null  float64\n",
      " 15  ord                392020 non-null  int64  \n",
      " 16  currency           392020 non-null  object \n",
      " 17  thstrm_add_amount  44924 non-null   float64\n",
      " 18  frmtrm_q_nm        193974 non-null  object \n",
      " 19  frmtrm_q_amount    185292 non-null  float64\n",
      " 20  frmtrm_add_amount  45015 non-null   float64\n",
      "dtypes: float64(6), int64(5), object(10)\n",
      "memory usage: 62.8+ MB\n"
     ]
    }
   ],
   "source": [
    "fnlttSingAcntAll_df = pd.read_csv('../../data/fn_data/ fnlttSinglAcntAll_2022_raw_data.csv')\n",
    "fnlttSingAcntAll_df.info()"
   ]
  },
  {
   "cell_type": "code",
   "execution_count": null,
   "metadata": {},
   "outputs": [],
   "source": [
    "fnlttSingAcntAll_indi_df = fnlttSingAcntAll_df.loc[fnlttSingAcntAll_df['account_nm'].isin(indicators)]\n",
    "# fnlttSingAcntAll_indi_df.head()"
   ]
  },
  {
   "cell_type": "code",
   "execution_count": 45,
   "metadata": {},
   "outputs": [
    {
     "data": {
      "text/plain": [
       "[]"
      ]
     },
     "execution_count": 45,
     "metadata": {},
     "output_type": "execute_result"
    }
   ],
   "source": [
    "# indicators = ['유동부채','비유동부채','단기차입금','유동성장기부채','사채','장기차입금','총자산','영업이익','유형자산상각비','무형자산상각비','유동부채', \n",
    "# '유동자산','총부채','총자본','이자비용','매출액','종업원수','순이익','이익잉여금','유형자산','재고자산','매입채무','매출채권처분손실','세전계속사업이익'\n",
    "# ,'당기순이익','자기자본','현금및현금성자산','단기투자증권','영업현금흐름유입','영업활동현금흐름']\n",
    "\n",
    "# indicators = ['유동부채','비유동부채','단기차입금','유동성장기부채','사채','장기차입금','자산총계','영업이익','유형자산상각비','무형자산상각비','유동부채', \n",
    "# '유동자산','부채총계','자본총계','이자비용','매출액','종업원수','순이익','이익잉여금','유형자산','재고자산','매입채무','매출채권처분손실','세전계속사업이익'\n",
    "# ,'당기순이익','자기자본','현금및현금성자산','단기투자증권','영업현금흐름유입액','영업활동현금흐름']\n",
    "\n",
    "indicators = ['유동부채','비유동부채','단기차입금','유동성장기부채','사채','장기차입금','자산총계','영업이익','유형자산상각비','무형자산상각비','유동부채', \n",
    "'유동자산','부채총계','자본총계','이자비용','매출액','당기순이익','이익잉여금','유형자산','재고자산','매입채무','매출채권처분손실','당기순이익','자본총계','현금및현금성자산','단기투자증권']\n",
    "err_list = []\n",
    "for nm in indicators:\n",
    "    if fnlttSingAcntAll_df.loc[fnlttSingAcntAll_df['account_nm']==nm].__len__() ==0:\n",
    "        err_list.append(nm)\n",
    "\n",
    "err_list"
   ]
  },
  {
   "cell_type": "code",
   "execution_count": 9,
   "metadata": {},
   "outputs": [
    {
     "name": "stdout",
     "output_type": "stream",
     "text": [
      "<class 'pandas.core.frame.DataFrame'>\n",
      "Index: 107422 entries, 0 to 391732\n",
      "Data columns (total 21 columns):\n",
      " #   Column             Non-Null Count   Dtype  \n",
      "---  ------             --------------   -----  \n",
      " 0   rcept_no           107422 non-null  int64  \n",
      " 1   reprt_code         107422 non-null  int64  \n",
      " 2   bsns_year          107422 non-null  int64  \n",
      " 3   corp_code          107422 non-null  int64  \n",
      " 4   sj_div             107422 non-null  object \n",
      " 5   sj_nm              107422 non-null  object \n",
      " 6   account_id         107422 non-null  object \n",
      " 7   account_nm         107422 non-null  object \n",
      " 8   account_detail     107422 non-null  object \n",
      " 9   thstrm_nm          107422 non-null  object \n",
      " 10  thstrm_amount      100881 non-null  float64\n",
      " 11  frmtrm_nm          107422 non-null  object \n",
      " 12  frmtrm_amount      100703 non-null  float64\n",
      " 13  bfefrmtrm_nm       107001 non-null  object \n",
      " 14  bfefrmtrm_amount   100100 non-null  float64\n",
      " 15  ord                107422 non-null  int64  \n",
      " 16  currency           107422 non-null  object \n",
      " 17  thstrm_add_amount  0 non-null       float64\n",
      " 18  frmtrm_q_nm        0 non-null       object \n",
      " 19  frmtrm_q_amount    0 non-null       float64\n",
      " 20  frmtrm_add_amount  0 non-null       float64\n",
      "dtypes: float64(6), int64(5), object(10)\n",
      "memory usage: 18.0+ MB\n"
     ]
    }
   ],
   "source": [
    "fnlttSingAcntAll_11011_df = fnlttSingAcntAll_df.loc[fnlttSingAcntAll_df['reprt_code']==11011].copy()\n",
    "fnlttSingAcntAll_11011_df.info()"
   ]
  },
  {
   "cell_type": "code",
   "execution_count": 46,
   "metadata": {},
   "outputs": [],
   "source": [
    "indicators = ['유동부채','비유동부채','단기차입금','유동성장기부채','사채','장기차입금','자산총계','영업이익','유형자산상각비','무형자산상각비','유동부채', \n",
    "'유동자산','부채총계','자본총계','이자비용','매출액','당기순이익','이익잉여금','유형자산','재고자산','매입채무','매출채권처분손실','당기순이익','자본총계','현금및현금성자산','단기투자증권']"
   ]
  },
  {
   "cell_type": "code",
   "execution_count": 47,
   "metadata": {},
   "outputs": [
    {
     "data": {
      "text/html": [
       "<div>\n",
       "<style scoped>\n",
       "    .dataframe tbody tr th:only-of-type {\n",
       "        vertical-align: middle;\n",
       "    }\n",
       "\n",
       "    .dataframe tbody tr th {\n",
       "        vertical-align: top;\n",
       "    }\n",
       "\n",
       "    .dataframe thead th {\n",
       "        text-align: right;\n",
       "    }\n",
       "</style>\n",
       "<table border=\"1\" class=\"dataframe\">\n",
       "  <thead>\n",
       "    <tr style=\"text-align: right;\">\n",
       "      <th></th>\n",
       "      <th>rcept_no</th>\n",
       "      <th>reprt_code</th>\n",
       "      <th>bsns_year</th>\n",
       "      <th>corp_code</th>\n",
       "      <th>sj_div</th>\n",
       "      <th>sj_nm</th>\n",
       "      <th>account_id</th>\n",
       "      <th>account_nm</th>\n",
       "      <th>account_detail</th>\n",
       "      <th>thstrm_nm</th>\n",
       "      <th>...</th>\n",
       "      <th>frmtrm_nm</th>\n",
       "      <th>frmtrm_amount</th>\n",
       "      <th>bfefrmtrm_nm</th>\n",
       "      <th>bfefrmtrm_amount</th>\n",
       "      <th>ord</th>\n",
       "      <th>currency</th>\n",
       "      <th>thstrm_add_amount</th>\n",
       "      <th>frmtrm_q_nm</th>\n",
       "      <th>frmtrm_q_amount</th>\n",
       "      <th>frmtrm_add_amount</th>\n",
       "    </tr>\n",
       "  </thead>\n",
       "  <tbody>\n",
       "    <tr>\n",
       "      <th>0</th>\n",
       "      <td>20230316000799</td>\n",
       "      <td>11011</td>\n",
       "      <td>2022</td>\n",
       "      <td>173944</td>\n",
       "      <td>BS</td>\n",
       "      <td>재무상태표</td>\n",
       "      <td>ifrs-full_CurrentAssets</td>\n",
       "      <td>유동자산</td>\n",
       "      <td>-</td>\n",
       "      <td>제 43 기</td>\n",
       "      <td>...</td>\n",
       "      <td>제 42 기</td>\n",
       "      <td>6.865631e+10</td>\n",
       "      <td>제 41 기</td>\n",
       "      <td>4.230933e+10</td>\n",
       "      <td>1</td>\n",
       "      <td>KRW</td>\n",
       "      <td>NaN</td>\n",
       "      <td>NaN</td>\n",
       "      <td>NaN</td>\n",
       "      <td>NaN</td>\n",
       "    </tr>\n",
       "    <tr>\n",
       "      <th>1</th>\n",
       "      <td>20230316000799</td>\n",
       "      <td>11011</td>\n",
       "      <td>2022</td>\n",
       "      <td>173944</td>\n",
       "      <td>BS</td>\n",
       "      <td>재무상태표</td>\n",
       "      <td>ifrs-full_CashAndCashEquivalents</td>\n",
       "      <td>현금및현금성자산</td>\n",
       "      <td>-</td>\n",
       "      <td>제 43 기</td>\n",
       "      <td>...</td>\n",
       "      <td>제 42 기</td>\n",
       "      <td>3.435252e+10</td>\n",
       "      <td>제 41 기</td>\n",
       "      <td>8.231505e+09</td>\n",
       "      <td>2</td>\n",
       "      <td>KRW</td>\n",
       "      <td>NaN</td>\n",
       "      <td>NaN</td>\n",
       "      <td>NaN</td>\n",
       "      <td>NaN</td>\n",
       "    </tr>\n",
       "    <tr>\n",
       "      <th>6</th>\n",
       "      <td>20230316000799</td>\n",
       "      <td>11011</td>\n",
       "      <td>2022</td>\n",
       "      <td>173944</td>\n",
       "      <td>BS</td>\n",
       "      <td>재무상태표</td>\n",
       "      <td>ifrs-full_Inventories</td>\n",
       "      <td>재고자산</td>\n",
       "      <td>-</td>\n",
       "      <td>제 43 기</td>\n",
       "      <td>...</td>\n",
       "      <td>제 42 기</td>\n",
       "      <td>1.769345e+10</td>\n",
       "      <td>제 41 기</td>\n",
       "      <td>1.894971e+10</td>\n",
       "      <td>7</td>\n",
       "      <td>KRW</td>\n",
       "      <td>NaN</td>\n",
       "      <td>NaN</td>\n",
       "      <td>NaN</td>\n",
       "      <td>NaN</td>\n",
       "    </tr>\n",
       "    <tr>\n",
       "      <th>10</th>\n",
       "      <td>20230316000799</td>\n",
       "      <td>11011</td>\n",
       "      <td>2022</td>\n",
       "      <td>173944</td>\n",
       "      <td>BS</td>\n",
       "      <td>재무상태표</td>\n",
       "      <td>ifrs-full_PropertyPlantAndEquipment</td>\n",
       "      <td>유형자산</td>\n",
       "      <td>-</td>\n",
       "      <td>제 43 기</td>\n",
       "      <td>...</td>\n",
       "      <td>제 42 기</td>\n",
       "      <td>6.648125e+10</td>\n",
       "      <td>제 41 기</td>\n",
       "      <td>6.544913e+10</td>\n",
       "      <td>11</td>\n",
       "      <td>KRW</td>\n",
       "      <td>NaN</td>\n",
       "      <td>NaN</td>\n",
       "      <td>NaN</td>\n",
       "      <td>NaN</td>\n",
       "    </tr>\n",
       "    <tr>\n",
       "      <th>15</th>\n",
       "      <td>20230316000799</td>\n",
       "      <td>11011</td>\n",
       "      <td>2022</td>\n",
       "      <td>173944</td>\n",
       "      <td>BS</td>\n",
       "      <td>재무상태표</td>\n",
       "      <td>ifrs-full_Assets</td>\n",
       "      <td>자산총계</td>\n",
       "      <td>-</td>\n",
       "      <td>제 43 기</td>\n",
       "      <td>...</td>\n",
       "      <td>제 42 기</td>\n",
       "      <td>1.798182e+11</td>\n",
       "      <td>제 41 기</td>\n",
       "      <td>1.920152e+11</td>\n",
       "      <td>16</td>\n",
       "      <td>KRW</td>\n",
       "      <td>NaN</td>\n",
       "      <td>NaN</td>\n",
       "      <td>NaN</td>\n",
       "      <td>NaN</td>\n",
       "    </tr>\n",
       "  </tbody>\n",
       "</table>\n",
       "<p>5 rows × 21 columns</p>\n",
       "</div>"
      ],
      "text/plain": [
       "          rcept_no  reprt_code  bsns_year  corp_code sj_div  sj_nm  \\\n",
       "0   20230316000799       11011       2022     173944     BS  재무상태표   \n",
       "1   20230316000799       11011       2022     173944     BS  재무상태표   \n",
       "6   20230316000799       11011       2022     173944     BS  재무상태표   \n",
       "10  20230316000799       11011       2022     173944     BS  재무상태표   \n",
       "15  20230316000799       11011       2022     173944     BS  재무상태표   \n",
       "\n",
       "                             account_id account_nm account_detail thstrm_nm  \\\n",
       "0               ifrs-full_CurrentAssets       유동자산              -    제 43 기   \n",
       "1      ifrs-full_CashAndCashEquivalents   현금및현금성자산              -    제 43 기   \n",
       "6                 ifrs-full_Inventories       재고자산              -    제 43 기   \n",
       "10  ifrs-full_PropertyPlantAndEquipment       유형자산              -    제 43 기   \n",
       "15                     ifrs-full_Assets       자산총계              -    제 43 기   \n",
       "\n",
       "    ...  frmtrm_nm frmtrm_amount  bfefrmtrm_nm bfefrmtrm_amount  ord  \\\n",
       "0   ...     제 42 기  6.865631e+10        제 41 기     4.230933e+10    1   \n",
       "1   ...     제 42 기  3.435252e+10        제 41 기     8.231505e+09    2   \n",
       "6   ...     제 42 기  1.769345e+10        제 41 기     1.894971e+10    7   \n",
       "10  ...     제 42 기  6.648125e+10        제 41 기     6.544913e+10   11   \n",
       "15  ...     제 42 기  1.798182e+11        제 41 기     1.920152e+11   16   \n",
       "\n",
       "    currency thstrm_add_amount  frmtrm_q_nm frmtrm_q_amount  frmtrm_add_amount  \n",
       "0        KRW               NaN          NaN             NaN                NaN  \n",
       "1        KRW               NaN          NaN             NaN                NaN  \n",
       "6        KRW               NaN          NaN             NaN                NaN  \n",
       "10       KRW               NaN          NaN             NaN                NaN  \n",
       "15       KRW               NaN          NaN             NaN                NaN  \n",
       "\n",
       "[5 rows x 21 columns]"
      ]
     },
     "execution_count": 47,
     "metadata": {},
     "output_type": "execute_result"
    }
   ],
   "source": [
    "fnlttSingAcntAll_11011_indi_df = fnlttSingAcntAll_11011_df.loc[fnlttSingAcntAll_11011_df['account_nm'].isin(indicators)]\n",
    "fnlttSingAcntAll_11011_indi_df.head()"
   ]
  },
  {
   "cell_type": "code",
   "execution_count": 51,
   "metadata": {},
   "outputs": [
    {
     "name": "stdout",
     "output_type": "stream",
     "text": [
      "<class 'pandas.core.frame.DataFrame'>\n",
      "Index: 107422 entries, 0 to 391732\n",
      "Data columns (total 21 columns):\n",
      " #   Column             Non-Null Count   Dtype  \n",
      "---  ------             --------------   -----  \n",
      " 0   rcept_no           107422 non-null  int64  \n",
      " 1   reprt_code         107422 non-null  int64  \n",
      " 2   bsns_year          107422 non-null  int64  \n",
      " 3   corp_code          107422 non-null  int64  \n",
      " 4   sj_div             107422 non-null  object \n",
      " 5   sj_nm              107422 non-null  object \n",
      " 6   account_id         107422 non-null  object \n",
      " 7   account_nm         107422 non-null  object \n",
      " 8   account_detail     107422 non-null  object \n",
      " 9   thstrm_nm          107422 non-null  object \n",
      " 10  thstrm_amount      100881 non-null  float64\n",
      " 11  frmtrm_nm          107422 non-null  object \n",
      " 12  frmtrm_amount      100703 non-null  float64\n",
      " 13  bfefrmtrm_nm       107001 non-null  object \n",
      " 14  bfefrmtrm_amount   100100 non-null  float64\n",
      " 15  ord                107422 non-null  int64  \n",
      " 16  currency           107422 non-null  object \n",
      " 17  thstrm_add_amount  0 non-null       float64\n",
      " 18  frmtrm_q_nm        0 non-null       object \n",
      " 19  frmtrm_q_amount    0 non-null       float64\n",
      " 20  frmtrm_add_amount  0 non-null       float64\n",
      "dtypes: float64(6), int64(5), object(10)\n",
      "memory usage: 18.0+ MB\n"
     ]
    }
   ],
   "source": [
    "fnlttSingAcntAll_11011_df.info()"
   ]
  },
  {
   "cell_type": "code",
   "execution_count": 50,
   "metadata": {},
   "outputs": [
    {
     "ename": "ValueError",
     "evalue": "Index contains duplicate entries, cannot reshape",
     "output_type": "error",
     "traceback": [
      "\u001b[1;31m---------------------------------------------------------------------------\u001b[0m",
      "\u001b[1;31mValueError\u001b[0m                                Traceback (most recent call last)",
      "Cell \u001b[1;32mIn[50], line 1\u001b[0m\n\u001b[1;32m----> 1\u001b[0m pivot_df\u001b[39m=\u001b[39mfnlttSingAcntAll_11011_indi_df\u001b[39m.\u001b[39;49mpivot(index\u001b[39m=\u001b[39;49m[\u001b[39m'\u001b[39;49m\u001b[39mcorp_code\u001b[39;49m\u001b[39m'\u001b[39;49m, \u001b[39m'\u001b[39;49m\u001b[39mbsns_year\u001b[39;49m\u001b[39m'\u001b[39;49m, \u001b[39m'\u001b[39;49m\u001b[39mreprt_code\u001b[39;49m\u001b[39m'\u001b[39;49m], columns\u001b[39m=\u001b[39;49m\u001b[39m'\u001b[39;49m\u001b[39maccount_nm\u001b[39;49m\u001b[39m'\u001b[39;49m, values\u001b[39m=\u001b[39;49m\u001b[39m'\u001b[39;49m\u001b[39mfrmtrm_amount\u001b[39;49m\u001b[39m'\u001b[39;49m)\u001b[39m.\u001b[39mreset_index()\n\u001b[0;32m      2\u001b[0m pivot_df\n",
      "File \u001b[1;32mc:\\ProgramData\\Anaconda3\\envs\\gra_prj\\lib\\site-packages\\pandas\\core\\frame.py:8414\u001b[0m, in \u001b[0;36mDataFrame.pivot\u001b[1;34m(self, columns, index, values)\u001b[0m\n\u001b[0;32m   8409\u001b[0m \u001b[39m@Substitution\u001b[39m(\u001b[39m\"\u001b[39m\u001b[39m\"\u001b[39m)\n\u001b[0;32m   8410\u001b[0m \u001b[39m@Appender\u001b[39m(_shared_docs[\u001b[39m\"\u001b[39m\u001b[39mpivot\u001b[39m\u001b[39m\"\u001b[39m])\n\u001b[0;32m   8411\u001b[0m \u001b[39mdef\u001b[39;00m \u001b[39mpivot\u001b[39m(\u001b[39mself\u001b[39m, \u001b[39m*\u001b[39m, columns, index\u001b[39m=\u001b[39mlib\u001b[39m.\u001b[39mNoDefault, values\u001b[39m=\u001b[39mlib\u001b[39m.\u001b[39mNoDefault) \u001b[39m-\u001b[39m\u001b[39m>\u001b[39m DataFrame:\n\u001b[0;32m   8412\u001b[0m     \u001b[39mfrom\u001b[39;00m \u001b[39mpandas\u001b[39;00m\u001b[39m.\u001b[39;00m\u001b[39mcore\u001b[39;00m\u001b[39m.\u001b[39;00m\u001b[39mreshape\u001b[39;00m\u001b[39m.\u001b[39;00m\u001b[39mpivot\u001b[39;00m \u001b[39mimport\u001b[39;00m pivot\n\u001b[1;32m-> 8414\u001b[0m     \u001b[39mreturn\u001b[39;00m pivot(\u001b[39mself\u001b[39;49m, index\u001b[39m=\u001b[39;49mindex, columns\u001b[39m=\u001b[39;49mcolumns, values\u001b[39m=\u001b[39;49mvalues)\n",
      "File \u001b[1;32mc:\\ProgramData\\Anaconda3\\envs\\gra_prj\\lib\\site-packages\\pandas\\core\\reshape\\pivot.py:557\u001b[0m, in \u001b[0;36mpivot\u001b[1;34m(data, columns, index, values)\u001b[0m\n\u001b[0;32m    553\u001b[0m         indexed \u001b[39m=\u001b[39m data\u001b[39m.\u001b[39m_constructor_sliced(data[values]\u001b[39m.\u001b[39m_values, index\u001b[39m=\u001b[39mmultiindex)\n\u001b[0;32m    554\u001b[0m \u001b[39m# error: Argument 1 to \"unstack\" of \"DataFrame\" has incompatible type \"Union\u001b[39;00m\n\u001b[0;32m    555\u001b[0m \u001b[39m# [List[Any], ExtensionArray, ndarray[Any, Any], Index, Series]\"; expected\u001b[39;00m\n\u001b[0;32m    556\u001b[0m \u001b[39m# \"Hashable\"\u001b[39;00m\n\u001b[1;32m--> 557\u001b[0m result \u001b[39m=\u001b[39m indexed\u001b[39m.\u001b[39;49munstack(columns_listlike)  \u001b[39m# type: ignore[arg-type]\u001b[39;00m\n\u001b[0;32m    558\u001b[0m result\u001b[39m.\u001b[39mindex\u001b[39m.\u001b[39mnames \u001b[39m=\u001b[39m [\n\u001b[0;32m    559\u001b[0m     name \u001b[39mif\u001b[39;00m name \u001b[39mis\u001b[39;00m \u001b[39mnot\u001b[39;00m lib\u001b[39m.\u001b[39mNoDefault \u001b[39melse\u001b[39;00m \u001b[39mNone\u001b[39;00m \u001b[39mfor\u001b[39;00m name \u001b[39min\u001b[39;00m result\u001b[39m.\u001b[39mindex\u001b[39m.\u001b[39mnames\n\u001b[0;32m    560\u001b[0m ]\n\u001b[0;32m    562\u001b[0m \u001b[39mreturn\u001b[39;00m result\n",
      "File \u001b[1;32mc:\\ProgramData\\Anaconda3\\envs\\gra_prj\\lib\\site-packages\\pandas\\core\\series.py:4313\u001b[0m, in \u001b[0;36mSeries.unstack\u001b[1;34m(self, level, fill_value)\u001b[0m\n\u001b[0;32m   4270\u001b[0m \u001b[39m\u001b[39m\u001b[39m\"\"\"\u001b[39;00m\n\u001b[0;32m   4271\u001b[0m \u001b[39mUnstack, also known as pivot, Series with MultiIndex to produce DataFrame.\u001b[39;00m\n\u001b[0;32m   4272\u001b[0m \n\u001b[1;32m   (...)\u001b[0m\n\u001b[0;32m   4309\u001b[0m \u001b[39mb    2    4\u001b[39;00m\n\u001b[0;32m   4310\u001b[0m \u001b[39m\"\"\"\u001b[39;00m\n\u001b[0;32m   4311\u001b[0m \u001b[39mfrom\u001b[39;00m \u001b[39mpandas\u001b[39;00m\u001b[39m.\u001b[39;00m\u001b[39mcore\u001b[39;00m\u001b[39m.\u001b[39;00m\u001b[39mreshape\u001b[39;00m\u001b[39m.\u001b[39;00m\u001b[39mreshape\u001b[39;00m \u001b[39mimport\u001b[39;00m unstack\n\u001b[1;32m-> 4313\u001b[0m \u001b[39mreturn\u001b[39;00m unstack(\u001b[39mself\u001b[39;49m, level, fill_value)\n",
      "File \u001b[1;32mc:\\ProgramData\\Anaconda3\\envs\\gra_prj\\lib\\site-packages\\pandas\\core\\reshape\\reshape.py:488\u001b[0m, in \u001b[0;36munstack\u001b[1;34m(obj, level, fill_value)\u001b[0m\n\u001b[0;32m    486\u001b[0m \u001b[39mif\u001b[39;00m is_1d_only_ea_dtype(obj\u001b[39m.\u001b[39mdtype):\n\u001b[0;32m    487\u001b[0m     \u001b[39mreturn\u001b[39;00m _unstack_extension_series(obj, level, fill_value)\n\u001b[1;32m--> 488\u001b[0m unstacker \u001b[39m=\u001b[39m _Unstacker(\n\u001b[0;32m    489\u001b[0m     obj\u001b[39m.\u001b[39;49mindex, level\u001b[39m=\u001b[39;49mlevel, constructor\u001b[39m=\u001b[39;49mobj\u001b[39m.\u001b[39;49m_constructor_expanddim\n\u001b[0;32m    490\u001b[0m )\n\u001b[0;32m    491\u001b[0m \u001b[39mreturn\u001b[39;00m unstacker\u001b[39m.\u001b[39mget_result(\n\u001b[0;32m    492\u001b[0m     obj\u001b[39m.\u001b[39m_values, value_columns\u001b[39m=\u001b[39m\u001b[39mNone\u001b[39;00m, fill_value\u001b[39m=\u001b[39mfill_value\n\u001b[0;32m    493\u001b[0m )\n",
      "File \u001b[1;32mc:\\ProgramData\\Anaconda3\\envs\\gra_prj\\lib\\site-packages\\pandas\\core\\reshape\\reshape.py:136\u001b[0m, in \u001b[0;36m_Unstacker.__init__\u001b[1;34m(self, index, level, constructor)\u001b[0m\n\u001b[0;32m    128\u001b[0m \u001b[39mif\u001b[39;00m num_cells \u001b[39m>\u001b[39m np\u001b[39m.\u001b[39miinfo(np\u001b[39m.\u001b[39mint32)\u001b[39m.\u001b[39mmax:\n\u001b[0;32m    129\u001b[0m     warnings\u001b[39m.\u001b[39mwarn(\n\u001b[0;32m    130\u001b[0m         \u001b[39mf\u001b[39m\u001b[39m\"\u001b[39m\u001b[39mThe following operation may generate \u001b[39m\u001b[39m{\u001b[39;00mnum_cells\u001b[39m}\u001b[39;00m\u001b[39m cells \u001b[39m\u001b[39m\"\u001b[39m\n\u001b[0;32m    131\u001b[0m         \u001b[39mf\u001b[39m\u001b[39m\"\u001b[39m\u001b[39min the resulting pandas object.\u001b[39m\u001b[39m\"\u001b[39m,\n\u001b[0;32m    132\u001b[0m         PerformanceWarning,\n\u001b[0;32m    133\u001b[0m         stacklevel\u001b[39m=\u001b[39mfind_stack_level(),\n\u001b[0;32m    134\u001b[0m     )\n\u001b[1;32m--> 136\u001b[0m \u001b[39mself\u001b[39;49m\u001b[39m.\u001b[39;49m_make_selectors()\n",
      "File \u001b[1;32mc:\\ProgramData\\Anaconda3\\envs\\gra_prj\\lib\\site-packages\\pandas\\core\\reshape\\reshape.py:188\u001b[0m, in \u001b[0;36m_Unstacker._make_selectors\u001b[1;34m(self)\u001b[0m\n\u001b[0;32m    185\u001b[0m mask\u001b[39m.\u001b[39mput(selector, \u001b[39mTrue\u001b[39;00m)\n\u001b[0;32m    187\u001b[0m \u001b[39mif\u001b[39;00m mask\u001b[39m.\u001b[39msum() \u001b[39m<\u001b[39m \u001b[39mlen\u001b[39m(\u001b[39mself\u001b[39m\u001b[39m.\u001b[39mindex):\n\u001b[1;32m--> 188\u001b[0m     \u001b[39mraise\u001b[39;00m \u001b[39mValueError\u001b[39;00m(\u001b[39m\"\u001b[39m\u001b[39mIndex contains duplicate entries, cannot reshape\u001b[39m\u001b[39m\"\u001b[39m)\n\u001b[0;32m    190\u001b[0m \u001b[39mself\u001b[39m\u001b[39m.\u001b[39mgroup_index \u001b[39m=\u001b[39m comp_index\n\u001b[0;32m    191\u001b[0m \u001b[39mself\u001b[39m\u001b[39m.\u001b[39mmask \u001b[39m=\u001b[39m mask\n",
      "\u001b[1;31mValueError\u001b[0m: Index contains duplicate entries, cannot reshape"
     ]
    }
   ],
   "source": [
    "pivot_df=fnlttSingAcntAll_11011_indi_df.pivot(index=['corp_code', 'bsns_year', 'reprt_code','fs_div'], columns='account_nm', values='frmtrm_amount').reset_index()\n",
    "pivot_df"
   ]
  },
  {
   "cell_type": "code",
   "execution_count": 48,
   "metadata": {},
   "outputs": [
    {
     "name": "stdout",
     "output_type": "stream",
     "text": [
      "유동부채 count : 702\n",
      "비유동부채 count : 702\n",
      "단기차입금 count : 426\n",
      "유동성장기부채 count : 76\n",
      "사채 count : 140\n",
      "장기차입금 count : 354\n",
      "자산총계 count : 712\n",
      "영업이익 count : 211\n",
      "유형자산상각비 count : 2\n",
      "무형자산상각비 count : 198\n",
      "유동부채 count : 702\n",
      "유동자산 count : 701\n",
      "부채총계 count : 712\n",
      "자본총계 count : 696\n",
      "이자비용 count : 222\n",
      "매출액 count : 371\n",
      "당기순이익 count : 859\n",
      "이익잉여금 count : 335\n",
      "유형자산 count : 711\n",
      "재고자산 count : 668\n",
      "매입채무 count : 280\n",
      "매출채권처분손실 count : 22\n",
      "당기순이익 count : 859\n",
      "자본총계 count : 696\n",
      "현금및현금성자산 count : 710\n",
      "단기투자증권 count : 6\n"
     ]
    }
   ],
   "source": [
    "for nm in indicators:\n",
    "    print(nm + ' count : ' + str(fnlttSingAcntAll_11011_df.loc[fnlttSingAcntAll_11011_df['account_nm']==nm].__len__()))"
   ]
  },
  {
   "cell_type": "code",
   "execution_count": 21,
   "metadata": {},
   "outputs": [],
   "source": [
    "acc_nm = fnlttSingAcntAll_11011_indi_df['account_nm'].unique().tolist()"
   ]
  },
  {
   "cell_type": "code",
   "execution_count": 22,
   "metadata": {},
   "outputs": [
    {
     "data": {
      "text/plain": [
       "(['유동부채',\n",
       "  '비유동부채',\n",
       "  '단기차입금',\n",
       "  '유동성장기부채',\n",
       "  '사채',\n",
       "  '장기차입금',\n",
       "  '총자산',\n",
       "  '영업이익',\n",
       "  '유형자산상각비',\n",
       "  '무형자산상각비',\n",
       "  '유동부채',\n",
       "  '유동자산',\n",
       "  '총부채',\n",
       "  '총자본',\n",
       "  '이자비용',\n",
       "  '매출액',\n",
       "  '종업원수',\n",
       "  '순이익',\n",
       "  '이익잉여금',\n",
       "  '유형자산',\n",
       "  '재고자산',\n",
       "  '매입채무',\n",
       "  '매출채권처분손실',\n",
       "  '세전계속사업이익',\n",
       "  '당기순이익',\n",
       "  '자기자본',\n",
       "  '현금및현금성자산',\n",
       "  '단기투자증권',\n",
       "  '영업현금흐름유입',\n",
       "  '영업활동현금흐름'],\n",
       " ['유동자산',\n",
       "  '현금및현금성자산',\n",
       "  '재고자산',\n",
       "  '유형자산',\n",
       "  '유동부채',\n",
       "  '매입채무',\n",
       "  '단기차입금',\n",
       "  '비유동부채',\n",
       "  '장기차입금',\n",
       "  '영업활동현금흐름',\n",
       "  '매출액',\n",
       "  '무형자산상각비',\n",
       "  '이자비용',\n",
       "  '당기순이익',\n",
       "  '유동성장기부채',\n",
       "  '이익잉여금',\n",
       "  '영업이익',\n",
       "  '사채',\n",
       "  '유형자산상각비',\n",
       "  '매출채권처분손실',\n",
       "  '단기투자증권'])"
      ]
     },
     "execution_count": 22,
     "metadata": {},
     "output_type": "execute_result"
    }
   ],
   "source": [
    "\n",
    "indicators, acc_nm\n",
    "for a_nm in in"
   ]
  },
  {
   "cell_type": "code",
   "execution_count": 12,
   "metadata": {},
   "outputs": [],
   "source": [
    "def find_financial_indicators(corp_doce,year, indicators):\n",
    "    # report = dart.finstate(stock_name, year)\n",
    "    if report.empty:\n",
    "        data = [[stock_name,year]+[np.nan]*len(indicators)]\n",
    "        data = [[stock_name,year-1]+[np.nan]*len(indicators)]\n",
    "        data = [[stock_name,year-2]+[np.nan]*len(indicators)]\n",
    "    \n",
    "        return pd.DataFrame(data,columns=['기업','연도']+indicators)\n",
    "    else:\n",
    "        report = report[report['account_nm'].isin(indicators)]\n",
    "        if sum(report['fs_nm']=='연결재무제표')>0:\n",
    "            report = report.loc[report['fs_nm']=='연결재무제표']\n",
    "        else:\n",
    "            report = report.loc[report['fs_nm']=='재무제표']\n",
    "        data = []\n",
    "        for year,c in zip([year,year-1,year-2],['thstrm_amount','frmtrm_amount','bfefrmtrm_amount']):\n",
    "            record = [stock_name, year]\n",
    "            for indic in indicators:\n",
    "                if sum(report['account_nm']==indic) > 0:\n",
    "                    value = report.loc[report['account_nm']==indic,c].iloc[0]\n",
    "                else:\n",
    "                    value = np.nan\n",
    "                record.append(value)\n",
    "            data.append(record)\n",
    "        return pd.DataFrame(data, columns=['기업','연도']+indicators)"
   ]
  },
  {
   "cell_type": "code",
   "execution_count": null,
   "metadata": {},
   "outputs": [],
   "source": []
  }
 ],
 "metadata": {
  "kernelspec": {
   "display_name": "gra_prj",
   "language": "python",
   "name": "python3"
  },
  "language_info": {
   "codemirror_mode": {
    "name": "ipython",
    "version": 3
   },
   "file_extension": ".py",
   "mimetype": "text/x-python",
   "name": "python",
   "nbconvert_exporter": "python",
   "pygments_lexer": "ipython3",
   "version": "3.9.18 (main, Sep 11 2023, 14:09:26) [MSC v.1916 64 bit (AMD64)]"
  },
  "orig_nbformat": 4,
  "vscode": {
   "interpreter": {
    "hash": "5ee31d4ea65052135bca3a5e6d0fee11b2cf7dc432f999cf410fd873f5b0b28e"
   }
  }
 },
 "nbformat": 4,
 "nbformat_minor": 2
}
