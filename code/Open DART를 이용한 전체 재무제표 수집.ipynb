{
 "cells": [
  {
   "cell_type": "code",
   "execution_count": null,
   "id": "e52c3b0f",
   "metadata": {},
   "outputs": [],
   "source": [
    "import os\n",
    "import OpenDartReader\n",
    "import FinanceDataReader as fdr"
   ]
  },
  {
   "cell_type": "code",
   "execution_count": null,
   "id": "34693052",
   "metadata": {},
   "outputs": [],
   "source": [
    "stock_list = fdr.StockListing(\"KRX\").dropna()"
   ]
  },
  {
   "cell_type": "code",
   "execution_count": null,
   "id": "de24db69",
   "metadata": {},
   "outputs": [],
   "source": [
    "# 숫자로 모두 변환\n",
    "def convert_str_to_float(value):\n",
    "    if type(value) == float: # nan의 자료형은 float임\n",
    "        return value\n",
    "    elif value == '-': # -로 되어 있으면 0으로 변환\n",
    "        return 0\n",
    "    else:\n",
    "        return float(value.replace(',', ''))"
   ]
  },
  {
   "cell_type": "code",
   "execution_count": null,
   "id": "0374baf5",
   "metadata": {},
   "outputs": [],
   "source": [
    "def extract_info_and_save(dart, path, year, name, code, report_type, report_type_code):\n",
    "    report = dart.finstate(code, year, report_type_code)\n",
    "    if report is None:\n",
    "        pass\n",
    "    else:\n",
    "        submission_date = report['rcept_no'].iloc[0][:8]\n",
    "        report = report[['fs_nm', 'account_nm', 'thstrm_dt', 'thstrm_amount', 'sj_nm']]\n",
    "        report.rename({\"fs_nm\":\"개별/연결\",\n",
    "                       \"account_nm\":\"계정명\",\n",
    "                       \"sj_nm\":\"재무제표명\",\n",
    "                       \"thstrm_dt\": \"당기일자\",\n",
    "                       \"thstrm_amount\":\"금액\"}, axis = 1, inplace = True)\n",
    "        report['금액'] = report['금액'].apply(convert_str_to_float)\n",
    "        \n",
    "        if name not in os.listdir(path):\n",
    "            os.mkdir(path + \"/\" + name)\n",
    "            \n",
    "        report.to_csv(path + \"/{}/{}_{}년_{}.csv\".format(name, submission_date, year, report_type),\n",
    "                      index = False, encoding = \"euc-kr\")"
   ]
  },
  {
   "cell_type": "code",
   "execution_count": null,
   "id": "62c65d08",
   "metadata": {},
   "outputs": [],
   "source": [
    "import time\n",
    "my_api = '6ac6c88791643c87a1e2e0b33040e9c953a8287d'\n",
    "path = ''\n",
    "dart = OpenDartReader(my_api)\n",
    "for code, name in stock_list[['Symbol', 'Name']].values:\n",
    "    for year in range(2016, 2022):\n",
    "        for report_type, report_type_code in zip([\"1분기보고서\", \"반기보고서\", \"3분기보고서\", \"사업보고서\"],\n",
    "                                                  [\"11013\", \"11012\", \"11014\", \"11011\"]):\n",
    "            print(name, year, report_type)\n",
    "            while True:\n",
    "                try:\n",
    "                    extract_info_and_save(dart = dart,\n",
    "                                          path = r\"qspy\\data\\재무제표\",\n",
    "                                          year = year,\n",
    "                                          name = name,\n",
    "                                          code = code,\n",
    "                                          report_type = report_type,\n",
    "                                          report_type_code = report_type_code)\n",
    "                    time.sleep(0.5)\n",
    "                    break\n",
    "                    \n",
    "                except:\n",
    "                    time.sleep(60)"
   ]
  }
 ],
 "metadata": {
  "kernelspec": {
   "display_name": "gra_prj",
   "language": "python",
   "name": "python3"
  },
  "language_info": {
   "codemirror_mode": {
    "name": "ipython",
    "version": 3
   },
   "file_extension": ".py",
   "mimetype": "text/x-python",
   "name": "python",
   "nbconvert_exporter": "python",
   "pygments_lexer": "ipython3",
   "version": "3.9.18 (main, Sep 11 2023, 14:09:26) [MSC v.1916 64 bit (AMD64)]"
  },
  "vscode": {
   "interpreter": {
    "hash": "5ee31d4ea65052135bca3a5e6d0fee11b2cf7dc432f999cf410fd873f5b0b28e"
   }
  }
 },
 "nbformat": 4,
 "nbformat_minor": 5
}
